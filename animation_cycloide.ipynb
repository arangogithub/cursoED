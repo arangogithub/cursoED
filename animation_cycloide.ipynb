{
 "cells": [
  {
   "cell_type": "markdown",
   "metadata": {},
   "source": [
    "<h1><center>La cicloide</center></h1>\n",
    "\n",
    " \n",
    "[matplotlib_ref](https://riptutorial.com/Download/matplotlib.pdf)\n",
    "\n",
    "[cicloide ref](https://es.wikipedia.org/wiki/Cicloide)\n",
    "\n",
    "[Animation matplotlib Jake Vanderplas ref](https://jakevdp.github.io/blog/2012/08/18/matplotlib-animation-tutorial/)\n",
    " \n",
    " "
   ]
  },
  {
   "cell_type": "markdown",
   "metadata": {},
   "source": [
    "## Ecuaciones parámetricas de la cicloide\n",
    "\n",
    "$$\n",
    "x = r\\,(t - \\sin{t}), \\; y = r\\,(1-\\cos{t}), \\quad t \\in R\n",
    "$$\n",
    "\n",
    "## Ecuación cartesiana\n",
    "\n",
    "$$\n",
    "x = r\\, \\arccos\\left(1- \\frac{y}{r}\\right) - \\sqrt{2r\\, y - y^2}\n",
    "$$\n",
    "\n",
    "La ecuación cartesiana solo representa la mitad del primer bucle de la cicloide y sólo está definida cuando $0\\le y\\le 2\\,r$. Mire que en la ecuación cartesiana la coordenada $x$ está en función de la coordenada $y$. Despejar $y$ en función de  $x$ es complicado...\n"
   ]
  },
  {
   "cell_type": "code",
   "execution_count": 1,
   "metadata": {},
   "outputs": [],
   "source": [
    "import numpy as np\n",
    "from matplotlib import pyplot as plt\n",
    "from matplotlib import animation"
   ]
  },
  {
   "cell_type": "markdown",
   "metadata": {},
   "source": [
    "## Gráficos básicos"
   ]
  },
  {
   "cell_type": "code",
   "execution_count": 2,
   "metadata": {},
   "outputs": [],
   "source": [
    "# Constantes importantes\n",
    "pi = np.pi\n",
    "r = 1\n",
    "bucles = 2 "
   ]
  },
  {
   "cell_type": "code",
   "execution_count": 3,
   "metadata": {},
   "outputs": [],
   "source": [
    "t = np.linspace(0,2*pi*bucles,1000)\n",
    "x_cicl, y_cicl = r*(t - np.sin(t)), r*(1- np.cos(t))"
   ]
  },
  {
   "cell_type": "code",
   "execution_count": 4,
   "metadata": {},
   "outputs": [
    {
     "data": {
      "image/png": "[encoded data removed]",
      "text/plain": [
       "<Figure size 720x144 with 1 Axes>"
      ]
     },
     "metadata": {
      "needs_background": "light"
     },
     "output_type": "display_data"
    }
   ],
   "source": [
    "fig, ax = plt.subplots(figsize=(10, 2))\n",
    "ax.plot(x_cicl, y_cicl, lw = 3)\n",
    "ax.set_xlim(0, 2*pi*bucles)\n",
    "ax.set_ylabel('y_cicl', loc='top')\n",
    "ax.set_xlabel('x_cicl', loc='right')\n",
    "ax.set_title(\"La cicloide\")\n",
    "plt.show()"
   ]
  },
  {
   "cell_type": "code",
   "execution_count": 5,
   "metadata": {},
   "outputs": [],
   "source": [
    "cartesian = lambda y: r*np.arccos(1-y/r)- np.sqrt(2*r*y-y**2)\n",
    "yy = np.linspace(0,2*r,100)"
   ]
  },
  {
   "cell_type": "code",
   "execution_count": 6,
   "metadata": {},
   "outputs": [
    {
     "data": {
      "image/png": "[encoded data removed]",
      "text/plain": [
       "<Figure size 226.195x144 with 1 Axes>"
      ]
     },
     "metadata": {
      "needs_background": "light"
     },
     "output_type": "display_data"
    }
   ],
   "source": [
    "fig, ax = plt.subplots(figsize=(pi, 2*r))\n",
    "ax.plot(cartesian(yy), yy, lw = 3, color =\"red\")\n",
    "ax.set_xlim(0, pi)\n",
    "ax.set_ylim(0, 2*r)\n",
    "plt.show()"
   ]
  },
  {
   "cell_type": "markdown",
   "metadata": {},
   "source": [
    "## Animación (movie)"
   ]
  },
  {
   "cell_type": "markdown",
   "metadata": {},
   "source": [
    "Se trata de animar un punto que se mueve en un circulo que rueda a velocidad constante  \n"
   ]
  },
  {
   "cell_type": "code",
   "execution_count": 7,
   "metadata": {},
   "outputs": [],
   "source": [
    "\"\"\"\n",
    "Damos las coordenadas de una rueda de radio r \n",
    "\"\"\"\n",
    "x_rueda, y_rueda = -r*np.cos(t), r - r*np.sin(t)\n"
   ]
  },
  {
   "cell_type": "code",
   "execution_count": 8,
   "metadata": {},
   "outputs": [
    {
     "data": {
      "image/png": "[encoded data removed]",
      "text/plain": [
       "<Figure size 904.779x144 with 1 Axes>"
      ]
     },
     "metadata": {
      "needs_background": "light"
     },
     "output_type": "display_data"
    }
   ],
   "source": [
    "\"\"\"\n",
    "Ponemos el telón de fondo e indicamos \n",
    "las coordenadas que van a ser actualizadas en cada cuadro (frames) \n",
    "\"\"\"\n",
    "fig, ax = plt.subplots(figsize=(2*pi*bucles, 2*r))\n",
    "ax.axis('off')\n",
    "ax.set_xlim(-r, 2*pi*bucles+r)\n",
    "ax.set_ylim(0, 2*r)\n",
    "#ax.plot(x_circ,y_circ, color='r', alpha=0.5, lw = 4) \n",
    "rollingPoint, = plt.plot([],[], marker='o',  color='b', ms = 10)\n",
    "rollingCircle, = plt.plot([],[], color='r', alpha=0.9)\n",
    "estela_rollingPoint, = plt.plot([],[], color='b', alpha=0.95)\n",
    "rollingRadius, = plt.plot([],[], color='r', alpha=0.5)"
   ]
  },
  {
   "cell_type": "code",
   "execution_count": 16,
   "metadata": {},
   "outputs": [],
   "source": [
    "\"\"\"\n",
    "Función de animación. Para cada valor de i genera un cuadro(frame) \n",
    "En cada cuadro hay tres elementos: la  posición actualizada del punto de la rueda, \n",
    "la rueda y un radio de la rueda para dar la ilusón de movimiento \n",
    "\"\"\"\n",
    "def update(i):\n",
    "    rollingPoint.set_data(x_cicl[i], y_cicl[i])\n",
    "    estela_rollingPoint.set_data(x_cicl[:i+1],y_cicl[:i+1])\n",
    "    rollingCircle.set_data( x_rueda + r*t[i],y_rueda )\n",
    "    rollingRadius.set_data([x_cicl[i], r*t[i]], [y_cicl[i],r ] ) \n",
    "    return rollingPoint,estela_rollingPoint, rollingCircle, rollingRadius "
   ]
  },
  {
   "cell_type": "code",
   "execution_count": 17,
   "metadata": {},
   "outputs": [],
   "source": [
    "\"\"\"\n",
    "Ahora se genera una animación con 1000 cuadros. El 1000 es el numero de puntos \n",
    "de la variable t\n",
    "\"\"\"\n",
    "anim = animation.FuncAnimation(fig, update, frames=range(1000), interval=10)\n",
    "plt.show()"
   ]
  },
  {
   "cell_type": "code",
   "execution_count": 18,
   "metadata": {},
   "outputs": [],
   "source": [
    "anim.save(\"movie.mp4\")"
   ]
  },
  {
   "cell_type": "code",
   "execution_count": null,
   "metadata": {},
   "outputs": [],
   "source": [
    "# save the animation as an mp4.  This requires ffmpeg or mencoder to be\n",
    "# installed.  The extra_args ensure that the x264 codec is used, so that\n",
    "# the video can be embedded in html5.  You may need to adjust this for\n",
    "# your system: for more information, see\n",
    "# http://matplotlib.sourceforge.net/api/animation_api.html\n",
    "anim.save('ncicloide.mp4', fps=60, extra_args=['-vcodec', 'libx264'])\n",
    "\n",
    "plt.show()"
   ]
  },
  {
   "cell_type": "code",
   "execution_count": null,
   "metadata": {},
   "outputs": [],
   "source": []
  },
  {
   "cell_type": "code",
   "execution_count": null,
   "metadata": {},
   "outputs": [],
   "source": []
  },
  {
   "cell_type": "code",
   "execution_count": null,
   "metadata": {},
   "outputs": [],
   "source": []
  }
 ],
 "metadata": {
  "kernelspec": {
   "display_name": "Python 3 (ipykernel)",
   "language": "python",
   "name": "python3"
  },
  "language_info": {
   "codemirror_mode": {
    "name": "ipython",
    "version": 3
   },
   "file_extension": ".py",
   "mimetype": "text/x-python",
   "name": "python",
   "nbconvert_exporter": "python",
   "pygments_lexer": "ipython3",
   "version": "3.9.7"
  }
 },
 "nbformat": 4,
 "nbformat_minor": 4
}
